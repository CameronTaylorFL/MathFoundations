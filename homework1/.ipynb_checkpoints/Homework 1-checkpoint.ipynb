{
 "cells": [
  {
   "cell_type": "markdown",
   "metadata": {},
   "source": [
    "Cameron Taylor\n",
    "\n",
    "Mathematical Foundations of ML\n",
    "\n",
    "Homework 1"
   ]
  },
  {
   "cell_type": "markdown",
   "metadata": {},
   "source": [
    "Problem 2\n",
    "---------------\n",
    "In the first lecture we discussed the syllabus, overall goals of the class, and which topics would be covered throughout the semester. We also discussed the importance of linear algebra to machine learning and how it applies to modeling.\n",
    "\n",
    "In the second lecture we began discussing methods to approximate functions that would allow us to store these representations as a list of numbers. This is important because it allows us to utilize linear algebra approaches to work with these functions and also gives us a simple representation for working with these functions computationally. Specifically we looked at Fourier series and Taylor series which approximate a function using sums of sin/cos and increasing degree polynomials respectivley. We also looked at Lagrange polynomials and splines which solve a similar problem, but instead of approximating a function given the function, they approximate a function that will fit a certain set of points."
   ]
  },
  {
   "cell_type": "markdown",
   "metadata": {},
   "source": [
    "Problem 3 \n",
    "---------------\n",
    "#### A ####\n",
    "\n",
    "Let Span{$u_1, ..., u_k$} = X. Since {$u_1, ..., u_k$} is a set of orthonormal vectors they are linearly independent. By definition they also span X which means that they form a basis for X. By the definition of a basis, any vector x in X can be written as $a_{1}u_{1} + ... + a_{k}u_{k}$ for some set of constants {$a_1, ..., a_k$}, which is equivalent to $\\sum_{k=1}^{K} a_{k}u_{k}$.\n",
    "\n",
    "#### B ####\n",
    "\n",
    "Assume ${u_1, ..., u_k}$ does not form a basis for T. This would imply that either ${u_1, ..., u_k}$ is not a linearly independent set of vectors and/or this set of vectors does not span T. Since the set is an orthonormal set all of the vectors are orthogonal and therefore also linearly independent. This implies that for ${u_1, ..., u_k}$ to not form a basis for T, ${u_1, ..., u_k}$ must not span T. In order for ${u_1, ..., u_k}$ to not span T there must be at least one more non-zero orthogonal vector in T that can be added to ${u_1, ..., u_k}$ to allow it to span T. However, we are also given that the only vector that is orthogonal to all of ${u_1, ..., u_k}$ is the zero vector. This means that {u_1, ..., u_k} must span T because it contains all . Thus we have reached a contradiction proving that since ${u_1, ..., u_k}$ must span T and ${u_1, ..., u_k}$ is linearly independent, it must also form a basis for T. "
   ]
  },
  {
   "cell_type": "markdown",
   "metadata": {},
   "source": [
    "Problem 4\n",
    "---------------"
   ]
  },
  {
   "cell_type": "code",
   "execution_count": 173,
   "metadata": {},
   "outputs": [],
   "source": [
    "# Part a\n",
    "import numpy as np\n",
    "import matplotlib.pyplot as plt"
   ]
  },
  {
   "cell_type": "code",
   "execution_count": 163,
   "metadata": {},
   "outputs": [],
   "source": [
    "def calculate_bspline(t):\n",
    "    if (t >= -3/2) and (t <= -1/2):\n",
    "        return ((t + (3/2))**2)/2\n",
    "    elif (t > -1/2) and (t <= 1/2):\n",
    "        return -t**2 + (3/4)\n",
    "    elif (t > 1/2) and (t <= 3/2):\n",
    "        return ((t - (3/2))**2)/2\n",
    "    else:\n",
    "        return 0"
   ]
  },
  {
   "cell_type": "code",
   "execution_count": 164,
   "metadata": {},
   "outputs": [],
   "source": [
    "def calculate_y(alpha, point, N):\n",
    "    sum = 0\n",
    "    \n",
    "    for k in range(N):\n",
    "        sum += alpha[k]*calculate_bspline(point-k)\n",
    "        \n",
    "    return sum"
   ]
  },
  {
   "cell_type": "code",
   "execution_count": 165,
   "metadata": {},
   "outputs": [],
   "source": [
    "def piecepoly2(t, alpha):    \n",
    "    f_x = []\n",
    "    \n",
    "    for point in t:   \n",
    "        f_x.append(calculate_y(alpha, point, len(alpha)))\n",
    "        \n",
    "    plt.plot(t, f_x)\n",
    "   \n",
    "    "
   ]
  },
  {
   "cell_type": "code",
   "execution_count": 166,
   "metadata": {},
   "outputs": [
    {
     "data": {
      "image/png": "[encoded data removed]",
      "text/plain": [
       "<Figure size 432x288 with 1 Axes>"
      ]
     },
     "metadata": {
      "needs_background": "light"
     },
     "output_type": "display_data"
    }
   ],
   "source": [
    "t = np.arange(-6,10,.001)\n",
    "alpha = [3,2,-1,4,-1]\n",
    "\n",
    "piecepoly2(t, alpha)"
   ]
  },
  {
   "cell_type": "code",
   "execution_count": 179,
   "metadata": {},
   "outputs": [],
   "source": [
    "# part b & c\n",
    "def generate_alphas(N, ts, ys):\n",
    "    A = np.zeros((N,N))\n",
    "    \n",
    "    for i in range(N):\n",
    "        for k in range(N):\n",
    "            A[i][k] = calculate_bspline(ts[i]-k)\n",
    "    \n",
    "    example_A = A\n",
    "    \n",
    "    A = np.linalg.inv(A)\n",
    "\n",
    "    alpha = [x for x in np.matmul(A, ys)]\n",
    "    return alpha, example_A"
   ]
  },
  {
   "cell_type": "code",
   "execution_count": 180,
   "metadata": {},
   "outputs": [
    {
     "name": "stdout",
     "output_type": "stream",
     "text": [
      "a_0 = 0.7722943722943723\n",
      "a_1 = 3.3662337662337665\n",
      "a_2 = -4.96969696969697\n",
      "a_3 = -5.548051948051947\n",
      "a_4 = -1.741991341991342\n"
     ]
    }
   ],
   "source": [
    "# Print the result\n",
    "alpha, example_A = generate_alphas(5, [0,1,2,3,4], [1,2,-4,-5,-2])\n",
    "for i in range(len(alpha)):\n",
    "    print(\"a_{} = {}\".format(i, alpha[i]))"
   ]
  },
  {
   "cell_type": "markdown",
   "metadata": {},
   "source": [
    "The above code shows the calculation for the coefficients alpha where len(alpha) = N = 5. The matrix A is generated by taking the value pairs (t, k) for each t in T = {$t_0, ..., t_{N-1}$} of the given points and each k in  K = {$k_0 ... k_{N-1}$}. For value pair (t, k) the result from $b_2$ will be placed in position (i, k) in matrix A, where i is the position of t in the vector T. You then take the inverse of that matrix A and multiply it by both sides of the equation f(x) = A*alpha. This gives $A^{-1}$ * f(x) = alpha. \n",
    "\n",
    "The following code produces the b-spline generated with $b_2$ and the alphas generated withe method above, confirming that the curve generated does indeed pass through the given values \\[1, 2, -4, -5, 2\\]. "
   ]
  },
  {
   "cell_type": "code",
   "execution_count": 181,
   "metadata": {},
   "outputs": [
    {
     "data": {
      "image/png": "[encoded data removed]",
      "text/plain": [
       "<Figure size 432x288 with 1 Axes>"
      ]
     },
     "metadata": {
      "needs_background": "light"
     },
     "output_type": "display_data"
    }
   ],
   "source": [
    "t = np.arange(-6,10,0.001)\n",
    "\n",
    "piecepoly2(t, alpha)"
   ]
  },
  {
   "cell_type": "markdown",
   "metadata": {},
   "source": [
    "#### part d, e, and f ####\n",
    "\n",
    "\n",
    "Let A = aI + G -> Ax = ax + Gx. We know from the definition of the b-spline function that the function is zero for any (t,k) pair such that |t-k| > 3/2. In terms of the composition of A and therefore also G this means that any position in the matrix $A_{i,j}$ where |i - j| > 3/2 will be zero. The result is that when the diagonal is removed via the decomposition into aI + G, we have two values in each row, except for the first and last which have only 1. "
   ]
  },
  {
   "cell_type": "code",
   "execution_count": 182,
   "metadata": {},
   "outputs": [
    {
     "name": "stdout",
     "output_type": "stream",
     "text": [
      "[[0.75  0.125 0.    0.    0.   ]\n",
      " [0.125 0.75  0.125 0.    0.   ]\n",
      " [0.    0.125 0.75  0.125 0.   ]\n",
      " [0.    0.    0.125 0.75  0.125]\n",
      " [0.    0.    0.    0.125 0.75 ]]\n"
     ]
    }
   ],
   "source": [
    "print(example_A)"
   ]
  },
  {
   "cell_type": "code",
   "execution_count": 183,
   "metadata": {},
   "outputs": [
    {
     "name": "stdout",
     "output_type": "stream",
     "text": [
      "[[0.    0.125 0.    0.    0.   ]\n",
      " [0.125 0.    0.125 0.    0.   ]\n",
      " [0.    0.125 0.    0.125 0.   ]\n",
      " [0.    0.    0.125 0.    0.125]\n",
      " [0.    0.    0.    0.125 0.   ]]\n"
     ]
    }
   ],
   "source": [
    "example_G = example_A - (np.trace(example_A)/len(example_A))*np.identity(5)\n",
    "print(example_G)"
   ]
  },
  {
   "cell_type": "markdown",
   "metadata": {},
   "source": [
    "Based on this, we can further decompose Gx into a($v_1 + v_2$) such that $v_1$ = \\[$x_2, x_3, ..., x_N, 0$\\] and $v_2$ = \\[$0, x_1, ..., x_{N-1}$\\]. "
   ]
  },
  {
   "cell_type": "markdown",
   "metadata": {},
   "source": [
    "Problem 5\n",
    "---------------"
   ]
  },
  {
   "cell_type": "code",
   "execution_count": 134,
   "metadata": {},
   "outputs": [],
   "source": [
    "# part a\n",
    "from scipy.io import loadmat"
   ]
  },
  {
   "cell_type": "code",
   "execution_count": 135,
   "metadata": {},
   "outputs": [
    {
     "data": {
      "text/plain": [
       "<matplotlib.collections.PathCollection at 0x7fa13b55b710>"
      ]
     },
     "execution_count": 135,
     "metadata": {},
     "output_type": "execute_result"
    },
    {
     "data": {
      "image/png": "[encoded data removed]",
      "text/plain": [
       "<Figure size 432x288 with 1 Axes>"
      ]
     },
     "metadata": {
      "needs_background": "light"
     },
     "output_type": "display_data"
    }
   ],
   "source": [
    "A = loadmat('hw01p5_nonuniform_samples.mat')\n",
    "ts = [x[0] for x in A['t']]\n",
    "ys = [x[0] for x in A['y']]\n",
    "t = np.arange(-6,10,0.001)\n",
    "\n",
    "alpha = generate_alphas(10, ts, ys)\n",
    "\n",
    "piecepoly2(t, alpha)\n",
    "\n",
    "plt.scatter(ts, ys)\n",
    "\n"
   ]
  },
  {
   "cell_type": "code",
   "execution_count": null,
   "metadata": {},
   "outputs": [],
   "source": [
    "# part b"
   ]
  },
  {
   "cell_type": "markdown",
   "metadata": {},
   "source": [
    "Problem 6\n",
    "---------------"
   ]
  },
  {
   "cell_type": "code",
   "execution_count": null,
   "metadata": {},
   "outputs": [],
   "source": []
  }
 ],
 "metadata": {
  "kernelspec": {
   "display_name": "Python 3",
   "language": "python",
   "name": "python3"
  },
  "language_info": {
   "codemirror_mode": {
    "name": "ipython",
    "version": 3
   },
   "file_extension": ".py",
   "mimetype": "text/x-python",
   "name": "python",
   "nbconvert_exporter": "python",
   "pygments_lexer": "ipython3",
   "version": "3.6.8"
  }
 },
 "nbformat": 4,
 "nbformat_minor": 2
}

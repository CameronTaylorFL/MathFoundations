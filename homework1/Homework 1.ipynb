{
 "cells": [
  {
   "cell_type": "markdown",
   "metadata": {},
   "source": [
    "Cameron Taylor\n",
    "\n",
    "Mathematical Foundations of ML\n",
    "\n",
    "Homework 1"
   ]
  },
  {
   "cell_type": "markdown",
   "metadata": {},
   "source": [
    "Problem 2\n",
    "---------------\n",
    "In the first lecture we discussed the syllabus, overall goals of the class, and which topics would be covered throughout the semester. We also discussed the importance of linear algebra to machine learning and how it applies to modeling.\n",
    "\n",
    "In the second lecture we began discussing methods to approximate functions that would allow us to store these representations as a list of numbers. This is important because it allows us to utilize linear algebra approaches to work with these functions and also gives us a simple representation for working with these functions computationally. Specifically we looked at Fourier series and Taylor series which approximate a function using sums of sin/cos and increasing degree polynomials respectivley. We also looked at Lagrange polynomials and splines which solve a similar problem, but instead of approximating a function given the function, they approximate a function that will fit a certain set of points."
   ]
  },
  {
   "cell_type": "markdown",
   "metadata": {},
   "source": [
    "Problem 3 \n",
    "---------------\n",
    "#### A ####\n",
    "\n",
    "Let Span{$u_1, ..., u_k$} = X. Since {$u_1, ..., u_k$} is a set of orthonormal vectors they are linearly independent. By definition they also span X which means that they form a basis for X. By the definition of a basis, any vector x in X can be written as $a_{1}u_{1} + ... + a_{k}u_{k}$ for some set of constants {$a_1, ..., a_k$}, which is equivalent to $\\sum_{k=1}^{K} a_{k}u_{k}$. \n",
    "\n",
    "#### B ####\n",
    "\n",
    "Assume ${u_1, ..., u_k}$ does not form a basis for T. This would imply that either ${u_1, ..., u_k}$ is not a linearly independent set of vectors and/or this set of vectors does not span T. Since the set is an orthonormal set all of the vectors are orthogonal and therefore also linearly independent. This implies that for ${u_1, ..., u_k}$ to not form a basis for T, ${u_1, ..., u_k}$ must not span T. In order for ${u_1, ..., u_k}$ to not span T there must be at least one more non-zero orthogonal vector in T that can be added to ${u_1, ..., u_k}$ to allow it to span T. However, we are also given that the only vector that is orthogonal to all of ${u_1, ..., u_k}$ is the zero vector. This means that {u_1, ..., u_k} must span T because it contains all . Thus we have reached a contradiction proving that since ${u_1, ..., u_k}$ must span T and ${u_1, ..., u_k}$ is linearly independent, it must also form a basis for T."
   ]
  },
  {
   "cell_type": "markdown",
   "metadata": {},
   "source": [
    "Problem 4\n",
    "---------------"
   ]
  },
  {
   "cell_type": "code",
   "execution_count": 4,
   "metadata": {},
   "outputs": [],
   "source": [
    "# Part a\n",
    "import numpy as np\n",
    "import matplotlib.pyplot as plt"
   ]
  },
  {
   "cell_type": "code",
   "execution_count": 5,
   "metadata": {},
   "outputs": [],
   "source": [
    "def calculate_bspline(t):\n",
    "    if (t >= -3/2) and (t <= -1/2):\n",
    "        return ((t + (3/2))**2)/2\n",
    "    elif (t > -1/2) and (t <= 1/2):\n",
    "        return -t**2 + (3/4)\n",
    "    elif (t > 1/2) and (t <= 3/2):\n",
    "        return ((t - (3/2))**2)/2\n",
    "    else:\n",
    "        return 0"
   ]
  },
  {
   "cell_type": "code",
   "execution_count": 6,
   "metadata": {},
   "outputs": [],
   "source": [
    "def calculate_y(alpha, point, N):\n",
    "    sum = 0\n",
    "    \n",
    "    for k in range(N):\n",
    "        sum += alpha[k]*calculate_bspline(point-k)\n",
    "        \n",
    "    return sum"
   ]
  },
  {
   "cell_type": "code",
   "execution_count": 7,
   "metadata": {},
   "outputs": [],
   "source": [
    "def piecepoly2(t, alpha):    \n",
    "    f_x = []\n",
    "    \n",
    "    for point in t:   \n",
    "        f_x.append(calculate_y(alpha, point, len(alpha)))\n",
    "        \n",
    "    plt.plot(t, f_x)\n",
    "   \n",
    "    "
   ]
  },
  {
   "cell_type": "code",
   "execution_count": 8,
   "metadata": {},
   "outputs": [
    {
     "data": {
      "image/png": "[encoded data removed]",
      "text/plain": [
       "<Figure size 432x288 with 1 Axes>"
      ]
     },
     "metadata": {
      "needs_background": "light"
     },
     "output_type": "display_data"
    }
   ],
   "source": [
    "t = np.arange(-6,10,.001)\n",
    "alpha = [3,2,-1,4,-1]\n",
    "\n",
    "piecepoly2(t, alpha)"
   ]
  },
  {
   "cell_type": "code",
   "execution_count": 9,
   "metadata": {},
   "outputs": [],
   "source": [
    "# part b & c\n",
    "def generate_alphas(N, ts, ys):\n",
    "    A = np.zeros((N,N))\n",
    "    \n",
    "    for i in range(N):\n",
    "        for k in range(N):\n",
    "            A[i][k] = calculate_bspline(ts[i]-k)\n",
    "    \n",
    "    example_A = A\n",
    "    \n",
    "    A = np.linalg.inv(A)\n",
    "\n",
    "    alpha = [x for x in np.matmul(A, ys)]\n",
    "    return alpha, example_A"
   ]
  },
  {
   "cell_type": "code",
   "execution_count": 10,
   "metadata": {},
   "outputs": [
    {
     "name": "stdout",
     "output_type": "stream",
     "text": [
      "a_0 = 0.7722943722943723\n",
      "a_1 = 3.3662337662337665\n",
      "a_2 = -4.96969696969697\n",
      "a_3 = -5.548051948051947\n",
      "a_4 = -1.741991341991342\n"
     ]
    }
   ],
   "source": [
    "# Print the result\n",
    "alpha, example_A = generate_alphas(5, [0,1,2,3,4], [1,2,-4,-5,-2])\n",
    "for i in range(len(alpha)):\n",
    "    print(\"a_{} = {}\".format(i, alpha[i]))"
   ]
  },
  {
   "cell_type": "markdown",
   "metadata": {},
   "source": [
    "The above code shows the calculation for the coefficients alpha where len(alpha) = N = 5. The matrix A is generated by taking the value pairs (t, k) for each t in T = {$t_0, ..., t_{N-1}$} of the given points and each k in  K = {$k_0 ... k_{N-1}$}. For value pair (t, k) the result from $b_2$ will be placed in position (i, k) in matrix A, where i is the position of t in the vector T. You then take the inverse of that matrix A and multiply it by both sides of the equation f(x) = A*alpha. This gives $A^{-1}$ * f(x) = alpha. \n",
    "\n",
    "The following code produces the b-spline generated with $b_2$ and the alphas generated withe method above, confirming that the curve generated does indeed pass through the given values \\[1, 2, -4, -5, 2\\]. "
   ]
  },
  {
   "cell_type": "code",
   "execution_count": 11,
   "metadata": {},
   "outputs": [
    {
     "data": {
      "image/png": "[encoded data removed]",
      "text/plain": [
       "<Figure size 432x288 with 1 Axes>"
      ]
     },
     "metadata": {
      "needs_background": "light"
     },
     "output_type": "display_data"
    }
   ],
   "source": [
    "t = np.arange(-6,10,0.001)\n",
    "\n",
    "piecepoly2(t, alpha)"
   ]
  },
  {
   "cell_type": "markdown",
   "metadata": {},
   "source": [
    "#### part d ####\n",
    "\n",
    "\n",
    "Let A = aI + G -> Ax = ax + Gx. We know from the definition of the b-spline function that the function is zero for any (t,k) pair such that |t-k| > 3/2. In terms of the composition of A and therefore also G this means that any position in the matrix $A_{i,j}$ where |i - j| > 3/2 will be zero. The result is that when the diagonal is removed via the decomposition into aI + G, we have two values in each row, except for the first and last which have only 1. "
   ]
  },
  {
   "cell_type": "code",
   "execution_count": 12,
   "metadata": {},
   "outputs": [
    {
     "name": "stdout",
     "output_type": "stream",
     "text": [
      "[[0.75  0.125 0.    0.    0.   ]\n",
      " [0.125 0.75  0.125 0.    0.   ]\n",
      " [0.    0.125 0.75  0.125 0.   ]\n",
      " [0.    0.    0.125 0.75  0.125]\n",
      " [0.    0.    0.    0.125 0.75 ]]\n"
     ]
    }
   ],
   "source": [
    "print(example_A)"
   ]
  },
  {
   "cell_type": "code",
   "execution_count": 13,
   "metadata": {},
   "outputs": [
    {
     "name": "stdout",
     "output_type": "stream",
     "text": [
      "[[0.    0.125 0.    0.    0.   ]\n",
      " [0.125 0.    0.125 0.    0.   ]\n",
      " [0.    0.125 0.    0.125 0.   ]\n",
      " [0.    0.    0.125 0.    0.125]\n",
      " [0.    0.    0.    0.125 0.   ]]\n"
     ]
    }
   ],
   "source": [
    "example_G = example_A - (np.trace(example_A)/len(example_A))*np.identity(5)\n",
    "print(example_G)"
   ]
  },
  {
   "cell_type": "markdown",
   "metadata": {},
   "source": [
    "Based on this, we can further decompose Gx into a($v_1 + v_2$) such that $v_1$ = \\[$x_2, x_3, ..., x_N, 0$\\] and $v_2$ = \\[$0, x_1, ..., x_{N-1}$\\]. Now by observing that $||v_1||_2$ and $||v_2||_2$ is < $||x||_2$, we can write \n",
    "\n",
    "$||ax + k(v_1 + v_2)x||_2 \\geq a||x||_2 - |k|(||v_1||_2 + ||v_2||_2)$\n",
    "\n",
    "We want $||Ax||_2$ = $||ax + k(v_1 + v_2)x||_2 = 0$ $\\geq$ $a||x||_2 - |k|(||v_1||_2 + ||v_2||_2)$ so we replace $v_1 and v_2$ with x since we know both are less than x. \n",
    "\n",
    "$0 \\geq a||x||_2 - 2|k|(||x||_2)$\n",
    "\n",
    "From above we can take the values of k and a from the matrix giving us k = 1/8 and a = 3/4. This gives us the following...\n",
    "\n",
    "$0 \\geq (3/4)||x||_2 - (1/4)(||x||_2)$\n",
    "\n",
    "$0 \\geq (1/2)||x||_2$\n",
    "\n",
    "Since 1/2 is a positive constant x must be the zero vector in order for the inequality to hold. Since x must be the zero vector we have shown that Ax = 0 only when x is the zero vector meaning that A is always invertible. "
   ]
  },
  {
   "cell_type": "markdown",
   "metadata": {},
   "source": [
    "#### part e ####\n",
    "\n",
    "$f(n) = \\sum_{m=-\\infty}^{\\infty}a_{m}b_{2}(n-m)$\n",
    "\n",
    "Substitute n-l for m\n",
    "$f(n) = \\sum_{n-l=-\\infty}^{\\infty}a_{n-l}b_{2}(n-(n-l))$\n",
    "\n",
    "$f(n) = \\sum_{-l=-\\infty}^{\\infty}a_{n-l}b_{2}(-l))$\n",
    "\n",
    "$f(n) = \\sum_{l=-\\infty}^{\\infty}a_{n-l}b_{2}(l))$\n",
    "\n",
    "Since this is in the form we want we can let $b_{2}(l) = h_l$ where the sequence is only non-zero for l = \\[-1,1\\].\n"
   ]
  },
  {
   "cell_type": "markdown",
   "metadata": {},
   "source": [
    "Problem 5\n",
    "---------------"
   ]
  },
  {
   "cell_type": "code",
   "execution_count": 27,
   "metadata": {},
   "outputs": [],
   "source": [
    "def fit_polynomial(ts, ys):\n",
    "    n = len(ts)\n",
    "    A = np.zeros((n,n))\n",
    "    \n",
    "    for i in range(n):\n",
    "        for j in range(n):\n",
    "            A[i][j] = ts[i]**(j)\n",
    "        \n",
    "    A_inv = np.linalg.inv(A)\n",
    "    \n",
    "    alphas = np.matmul(A_inv, ys)\n",
    "    return alphas"
   ]
  },
  {
   "cell_type": "code",
   "execution_count": 38,
   "metadata": {},
   "outputs": [],
   "source": [
    "def plot_polynomial(alphas, t):\n",
    "    ys = [0 for x in range(len(t))]\n",
    "    \n",
    "    for i in range(len(t)):\n",
    "        for j in range(len(alphas)):\n",
    "            ys[i] += alphas[j]*t[i]**j\n",
    "    \n",
    "    plt.plot(t, ys)\n",
    "    "
   ]
  },
  {
   "cell_type": "code",
   "execution_count": 41,
   "metadata": {},
   "outputs": [
    {
     "data": {
      "text/plain": [
       "<matplotlib.collections.PathCollection at 0x7f04153b9128>"
      ]
     },
     "execution_count": 41,
     "metadata": {},
     "output_type": "execute_result"
    },
    {
     "data": {
      "image/png": "[encoded data removed]",
      "text/plain": [
       "<Figure size 432x288 with 1 Axes>"
      ]
     },
     "metadata": {
      "needs_background": "light"
     },
     "output_type": "display_data"
    }
   ],
   "source": [
    "# part a\n",
    "A = loadmat('hw01p5_nonuniform_samples.mat')\n",
    "ts = [x[0] for x in A['t']]\n",
    "ys = [x[0] for x in A['y']]\n",
    "t = np.arange(0,9.5,0.001)\n",
    "\n",
    "alphas = fit_polynomial(ts, ys)\n",
    "\n",
    "plot_polynomial(alphas, t)\n",
    "\n",
    "plt.scatter(ts, ys)"
   ]
  },
  {
   "cell_type": "code",
   "execution_count": 42,
   "metadata": {},
   "outputs": [],
   "source": [
    "# part b"
   ]
  },
  {
   "cell_type": "code",
   "execution_count": 43,
   "metadata": {},
   "outputs": [
    {
     "data": {
      "text/plain": [
       "<matplotlib.collections.PathCollection at 0x7f0415310cf8>"
      ]
     },
     "execution_count": 43,
     "metadata": {},
     "output_type": "execute_result"
    },
    {
     "data": {
      "image/png": "[encoded data removed]",
      "text/plain": [
       "<Figure size 432x288 with 1 Axes>"
      ]
     },
     "metadata": {
      "needs_background": "light"
     },
     "output_type": "display_data"
    }
   ],
   "source": [
    "alpha, _ = generate_alphas(10, ts, ys)\n",
    "\n",
    "piecepoly2(t, alpha)\n",
    "\n",
    "plt.scatter(ts, ys)\n",
    "\n"
   ]
  },
  {
   "cell_type": "markdown",
   "metadata": {},
   "source": [
    "Problem 6\n",
    "---------------"
   ]
  },
  {
   "cell_type": "markdown",
   "metadata": {},
   "source": [
    "#### part a ####\n",
    "f'(d) = (f(c) - f(a)) / (c - a) and f'(e) = (f(b) - f(c)) / (b-c) where c = (a+b) / 2. We know that f'(d) is < f'(e) since f' is monotonicly increasing, giving us...\n",
    "\n",
    "\\[(f(c) - f(a)) / (c - a)\\] <= \\[(f(b) - f(c)) / (b - c)\\]\n",
    "\n",
    "Since (c-a) = (b -c) we can cancel both. This gives us...\n",
    "\n",
    "f(c) - f(a) <= f(b) - f(c)\n",
    "\n",
    "2f(c) <= f(b) + f(a)\n",
    "\n",
    "f(c) <= (f(b) + f(a)) / 2\n",
    "\n",
    "Substituting c = a+b/2 we have..\n",
    "\n",
    "f(a+b/2) <= (f(a) + f(b)) / 2\n"
   ]
  },
  {
   "cell_type": "markdown",
   "metadata": {},
   "source": [
    "#### part b #### \n",
    "\n",
    "##### Prove Additions Operators #####\n",
    "For any two sequences $\\{x_n\\}_{1}^{\\infty}$ and $\\{y_n\\}_{1}^{\\infty}$ we define $x_n$ + $y_n$ = (x1+y1, x2+y2, ... xn+yn). \n",
    "\n",
    "1. x + y = y + x\n",
    "\n",
    "Let x+y = a and let y+x = b. Since term $a_i$ is equal to terms $x_i$ + $y_i$ and since $b_i$ is equal to terms $y_i$ + $x_i$ we can say that x+y = y+x because $x_i$ + $y_i$ = $y_i$ + $x_i$ for all $i$ in \\[1, -$\\infty$\\]\n",
    "\n",
    "2. x + (y + z) = (x + y) + z\n",
    "\n",
    "Again for each term in x + y + z whether you add x+y first or y+z first each term will be $x_i$ + ($y_i$ + $z_i$) or ($x_i$ + $y_i$) + $z_i$ and for individual terms of addition in R these are equivalent.\n",
    "\n",
    "3. unique zero vector such that x + 0 = x\n",
    "\n",
    "Let the zero vector = (0, 0, 0, ..., 0). If any term ($zero_i$) is non-zero, the vector would not be unique but it would also mean that for that term when the vector is added to x, $x_i$ would not be equal to itself breaking the condition.\n",
    "\n",
    "4. -x exists such that x - x = 0\n",
    "\n",
    "We can define -x as ($-1*x_1, -1*x_2, ..., -1*x_n$) and then when the two vectors are added each term will be $x_i + -1*x_i$ giving us x = 0.\n",
    "\n",
    "##### Prove on scaler multiplication operators ######\n",
    "\n",
    "1. a(x + y) = ax + ay\n",
    "\n",
    "For each term of the sequence s = a(x+y) $s_i$ we have $(x_i+y_i)*a = ax_i + ay_i$ and for each term of the sequence r = ax + ay $r_i$ we have $ax_i + ay_i = a(x_i + y_i)$ so the two are equivalent.\n",
    "\n",
    "2. (ab)x = a(bx)\n",
    "\n",
    "For each term of the sequence s = a(bx) $s_i$ we have $a(bx_i) = abx_i$ and for each term of the sequence r = (ab)x $r_i$ we have $ab(x_i) = abx_i$ so the two are equivalent.\n",
    "\n",
    "3. 1x = x\n",
    "\n",
    "For each term in sequence s = 1*x we have ($1*x_1, 1*x_2, ... 1*x_n$) = ($x_1, x_2, ..., x_n$) = x.\n",
    "\n",
    "4. 0x = 0\n",
    "\n",
    "For each term in sequence s = 0*x we have ($0*x_1, 0*x_2, ... 0*x_n$) = ($0, 0, ..., 0$) = 0.\n",
    "\n",
    "##### Prove closed on scaler multiplication #####\n",
    "$\\sum_{n=1}^{\\infty}|aX_{n}|^{p} < \\infty$\n",
    "\n",
    "$|a|^{p}\\sum_{n=1}^{\\infty}|X_{n}|^{p} < \\infty$\n",
    "\n",
    "Since |a|^{p} is a constant and we already know by definition that $\\sum_{n=1}^{\\infty}|X_{n}|^{p}$ is finite\n",
    "##### Prove closed on scaler mult with addition #####\n",
    "We want to show that $\\sum_{i=1}^{\\infty}|ax_{n} + by_{n}|^{p} < \\infty$. We already showed that $\\sum_{i=1}^{\\infty}|ax_{n}|^{p} < \\infty$ so we can let $ax_{n} = x'$ and let $by_{n} = y'$ giving $\\sum_{i=1}^{\\infty}|x^{'}_{n} + y^{'}_{n}|^{p} < \\infty$. We can multiply and divide by 2 to get $\\sum_{i=1}^{\\infty}|(2x^{'}_{n} + 2y^{'}_{n})/2|^{p} < \\infty$ and further substitute $2x'_{n} = a$ and $2y'_{n} = b$ giving $\\sum_{i=1}^{\\infty}|(a + b)/2|^{p} < \\infty$. We already know from 6a that f((a+b)/2) <= (f(a) + f(b)) / 2 and we also know by definition that f(a) is finite and f(b) is finite so f(a) + f(b) must also be finite. From there we can say that since f((a+b)/2) is less than or equal to (f(a) + f(b)) / 2, f((a+b)/2) must also be finite and therefore a member of $l_p$.\n"
   ]
  }
 ],
 "metadata": {
  "kernelspec": {
   "display_name": "Python 3",
   "language": "python",
   "name": "python3"
  },
  "language_info": {
   "codemirror_mode": {
    "name": "ipython",
    "version": 3
   },
   "file_extension": ".py",
   "mimetype": "text/x-python",
   "name": "python",
   "nbconvert_exporter": "python",
   "pygments_lexer": "ipython3",
   "version": "3.6.8"
  }
 },
 "nbformat": 4,
 "nbformat_minor": 2
}

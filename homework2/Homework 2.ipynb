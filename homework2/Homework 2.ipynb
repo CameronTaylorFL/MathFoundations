{
 "cells": [
  {
   "cell_type": "markdown",
   "metadata": {},
   "source": [
    "Cameron Taylor\n",
    "\n",
    "Mathematical Foundations of ML\n",
    "\n",
    "Homework 2"
   ]
  },
  {
   "cell_type": "markdown",
   "metadata": {},
   "source": [
    "### Problem 1 ###\n",
    "\n",
    "In the first lecture, we talked about norms and inner products, specifically covering the properties of these two operations and discussing some of their uses. For norms, we discussed the different versions such as $l_2$ norm, $l_1$ norm, $l_\\infty$, and $l_p$ norm. We also discussed different domains where this operation can be defined such as $R^n$, infinite sequences, real-valued functions, etc. For inner products we discussed its relationship to orthogonality and some standard and slightly less standard examples of spaces where it can be defined. We also talked about how a valid inner product space will have an induced norm in the form of $||x|| = \\sqrt{<x, x>}$ and some other results that can be derived from the norm such as Cauchy-Schwarz ($|<x, y>| \\leq ||x||||y||$), the parallelogram law ($||x+y||^{2}+||x-y||^{2} = 2||x||^{2} + 2||y||^{2}$), and the polarization identity ($\\frac{||x+y|^{2} - ||x-y||^{2}}{4})$. In addition we covered how these inner products relate to the concept of angle between vectors and how that might be useful.\n",
    "\n",
    "In the second lecture, we discussed linear approximation in a Hilbert space, where a Hilbert space is a space with an inner product and induced norm. The goal of the lecture was to show the best way to find the closest point $\\hat{x} \\in T$,  which is a subspace of $S$, to some other point $x \\in S$. This involves finding some $\\alpha$'s to multiply with a basis of $T$ such that $x - \\hat{x}$ is orthogonal to the subspace $T$. We then talked about how expanding out the solution for this problem provides us with a Gram matrix and discussed the useful properties of this type of matrix such as being always invertible and conjugate symmetric. Finally, we finished with an example of how to use this approach and approximate $e^{t}$."
   ]
  },
  {
   "cell_type": "markdown",
   "metadata": {},
   "source": [
    "### Problem 2 ###\n",
    " \n",
    "Prove | $|x|| - ||y|| \\ | \\leq ||x - y||$ is true in normed linear space.\n",
    "\n",
    "$||x|| = ||(x - y) + y|| \\leq ||x - y|| + ||y||$ \n",
    "\n",
    "This statement is true by the triangle inequality. From here if we replace the left side with $||x||$ we get...\n",
    "\n",
    "$||x|| \\leq ||x - y|| + ||y||$\n",
    "\n",
    "Now we can subtract $||y||$ from both sides to get...\n",
    "\n",
    "$||x|| - ||y|| \\leq ||x - y||$\n",
    "\n",
    "We can say that $| ||x|| - ||y|| |$ will always be bounded by the length of the vector formed by subtracting y from x.\n",
    "\n",
    "\n",
    "\n"
   ]
  },
  {
   "cell_type": "markdown",
   "metadata": {},
   "source": [
    "### Problem 3 ###\n",
    "\n",
    "#### a) ####\n",
    "\n",
    "For $B_1$ r = 7 because $||x||_{l_1}$ is 7 when x = \\[-3 4\\].\n",
    "\n",
    "For $B_2$ r = 5 because $||x||_{l_2}$ is 5 when x = \\[-3 4\\].\n",
    "\n",
    "For $B_\\infty$ r = 4 because $||x||{l_\\infty}$ is 4 when x is \\[-3 4\\].\n"
   ]
  },
  {
   "cell_type": "markdown",
   "metadata": {},
   "source": [
    "#### b) ####\n",
    "\n",
    "$B_b$ breaks the homogeneity principle if you take x = \\[1 -2\\]. We then multiply x by -1 giving us \\[-1 1\\], which should have the same value as x since ||ax|| = |a| * ||x||. However, looking at the unit ball for $B_b$ we have that \\[-1 1\\] is outside the boundary meaning that its value is greater than 1. This should be impossible for a unit ball that is created from a valid norm.\n",
    "\n",
    "$B_c$ breaks the triangle inequality principle if you take x = $[1 \\ 1]$ and y = $[-1 \\ 1]$. $||x + y|| = ||[0 \\ 1]||_{2}$. $||x|| = 1$ and $||y|| = 1$ and $||x + y|| = ||[0, \\ 2]||$. Let the vector $[0, \\ \\alpha]$ be the vector on the boundary of the unit ball. Since $[0, \\alpha]$ is colinear with $[0, \\ 2]$ and we know that it must have twice the norm of $[0, \\ 1]$ by the property of homogeneity. Therefore, we can say that $||[0, \\ 2]||$ must be > $2*||[0, \\ \\alpha]||$. $||[0, \\ \\alpha]||$ is 1 so that means ||x + y|| > 2, but also <= 2 by the triangle inequality so $B_c$ breaks the triangle inequality making it an invalid norm."
   ]
  },
  {
   "cell_type": "markdown",
   "metadata": {},
   "source": [
    "#### c) ####\n",
    "\n",
    "For all three matrices A below ||Ax|| represents a valid norm when A is non singular (i.e. Det(A) != 0). This is because Ax is still a vector so The triangle inequality and homogeneity princple still hold for all x. However it is possible that if A was singular it could map multiple x to zero breaking the property that $||x|| \\geq 0$ and $ ||x|| = $ iff x = 0.\n",
    "\n",
    "$B_{a} = ||Ax||_{\\infty}$, where A = $[[1/3 \\ 0],[0 \\ 1]]$. Since the Det(A) = 1/3 != 0, we know that the null space of A is 0 which means $B_{a}$ is a valid norm.\n",
    "\n",
    "$B_{d} = ||Ax||_{1}$, where A = $[[1 \\ 0], [0 \\ 1/2]]$. Since the Det(A) = 1/2 != 0, we know that the null space of A is 0 which means $B_{a}$ is a valid norm.\n",
    "\n",
    "$B_{e} = ||Ax||_{1}$, where A = $[[1/2 \\ -1/2], [\\frac{1}{4} \\ \\frac{1}{4}]]$. This matrix comes from a composition of stretching matrix S, similar to the two above, and a rotation matrix R. The image is rotated clockwise 45 degrees after being stretched giving the translation matrix T = SR. Since the Det(A) = $\\frac{1}{4} != 0$, we know that the null space of A is 0 which means $B_{e}$ is a valid norm.\n"
   ]
  },
  {
   "cell_type": "markdown",
   "metadata": {},
   "source": [
    "### Problem 4 ###\n",
    "\n",
    "#### a) ####\n",
    "\n",
    "$|<x, y>| \\leq ||x||_{\\infty}||y||_1$\n",
    "\n",
    "$<x, y> = \\sum_{i=1}^{n}x_{i}y_{i}$\n",
    "\n",
    "$||x||_{\\infty}||y|| = max(x)\\sum_{i=1}^{n}y_i = \\sum_{i=1}^{n}max(x)(y_i)$\n",
    "\n",
    "By definition max(x) will be $\\geq$ all elements of x so for each term in the sum the value of $max(x)y_i$ will be $\\geq x_{i}y_{i}$ which implies that the sum of the terms will also be greater than or equal to."
   ]
  },
  {
   "cell_type": "markdown",
   "metadata": {},
   "source": [
    "#### b) ####\n",
    "\n",
    "Let $y = [y_{1}, y_{2}, ..., y_{n}]$ where $y_{i} = sign(x_{i}) * 1$. From this we can say that $||y||_{2} = \\sqrt{N}$ where N is the length of y. Using Cauchy-Schwartz we can replace $||y||_{2}$ with $\\sqrt{N}$ giving us $<x, y> \\leq \\sqrt{N}||x||_{2}$. Since $sign(x_{i})*x_{i} = |x_{i}|$ we can also say that $<x, y> = ||x||_{1}$. This gives us $||x||_{1} \\leq \\sqrt{N}||x||_{2}$, proving the inequality."
   ]
  },
  {
   "cell_type": "markdown",
   "metadata": {},
   "source": [
    "#### c) ####\n",
    "\n",
    "Since we know that the angle between x and y must be zero in order to get the maximum value from the inner product, we know that x must be equal to y scaled by some constant. We also know that we want the $l_2$ norm of x to be equal to 1 so we must divide y by the $l_2$ norm in order to scale it to the size we want.\n",
    "\n",
    "$<x, y> = \\sum_{i=1}^{n}x_{i}y_{i}$ where $x_{i} = \\frac{y}{||y||_{2}}$"
   ]
  },
  {
   "cell_type": "markdown",
   "metadata": {},
   "source": [
    "#### d) ####\n",
    "\n",
    "We know that $<x, y> = x_{1}y_{1} + x_{2}y_{2} + ... + x_{n}y_{n}$. $max(sum(<x, y>)) = sum(max(x_{i}y_{i}))$ so we know that by maximizing each individual term we will maximize the sum. The range of possible values for $x_{i}$ is $[-1, 1]$ so in order to get the maximum contribution from each term $|x_{i}|$ should be 1. We also know that a sum of all positive values will always be greater than a sum of the same values but some being negative so we need each term to be positive.\n",
    "\n",
    "$<x, y> = \\sum_{i=1}^{n}x_{i}y_{i}$ where $x_{i} = sign(y)*1$\n"
   ]
  },
  {
   "cell_type": "markdown",
   "metadata": {},
   "source": [
    "#### e) ####\n",
    "\n",
    "We know that <x, y> is equivalent to a weighted sum where the sum of the absolute value of the weights must be <= 1. For a weighted sum $x_{1}y_{1} + x_{2}y_{2} + ... + x_{n}y_{n}$ we can find the maximum by weighting the term containing $argmax(y)$ as 1 (or -1 depending on the sign of y) and all others zero. \n",
    "\n",
    "This can be shown by assuming that some other weighting would achieve the maximum so instead of $sign(y) * argmax(y) * 1$ we have $sign(y) * argmax(y) * (1 - \\alpha) + \\alpha * y_{i}$ where i is not the index of $argmax(y)$. For any value of $\\alpha$ we are reducing the sum by $|argmax(y) * \\alpha|$ and increasing the sum by $|\\alpha * y_{i}|$ for some i other than index of argmax(y). Obviously $|argmax(y) * \\alpha| \\geq |\\alpha * y_{i}|$ for all i other than index of argmax(y). So no matter which $y_{i}$ or multiple $y_{i}$'s we multiply portions of $\\alpha$ with we will always reduce the sum by more than we add.\n",
    " \n",
    "$<x, y> = \\sum_{i=1}^{n}x_{i}y_{i}$ where $x_{i} = sign(y)*1$ if $y_{i} = argmax(y)$; otherwise 0."
   ]
  },
  {
   "cell_type": "markdown",
   "metadata": {},
   "source": [
    "### Problem 5 ###\n",
    "\n",
    "#### a) ####\n",
    "\n",
    "By taking the formula for $||x||_{l_{2}}$ and appling A to x we get...\n",
    "\n",
    "$\\sqrt{(3x_{1} + 3_{x2})^{2} + (-\\frac{1}{2}x_2 + \\frac{1}{2}x_2)^{2}}$\n",
    "\n",
    "$= \\frac{37}{4}x_{1}^{2} + \\frac{35}{2}x_{1}x_{2} + \\frac{37}{4}x_{2}^{2} \\leq 1$ \n",
    "\n",
    "This represents the equation of our unit ball which is plotted in python below."
   ]
  },
  {
   "cell_type": "code",
   "execution_count": 96,
   "metadata": {},
   "outputs": [],
   "source": [
    "import numpy as np\n",
    "import matplotlib.pyplot as plt\n",
    "import pylab\n",
    "import math"
   ]
  },
  {
   "cell_type": "code",
   "execution_count": 116,
   "metadata": {},
   "outputs": [
    {
     "data": {
      "image/png": "[encoded data removed]",
      "text/plain": [
       "<Figure size 432x288 with 1 Axes>"
      ]
     },
     "metadata": {
      "needs_background": "light"
     },
     "output_type": "display_data"
    }
   ],
   "source": [
    "def plot_lA_norm():\n",
    "    xs_temp = [x for x in 2.0*np.random.randn(100000,2)]\n",
    "    xs = []\n",
    "    ys = []\n",
    "    \n",
    "    angle = math.pi / 4\n",
    "    val = math.cos(angle)\n",
    "    \n",
    "    \n",
    "    \n",
    "    for x in xs_temp:\n",
    "        if (37/4)*x[0]**2 + (35/2)*x[0]*x[1] + (37/4)*x[1]**2 < 1:\n",
    "            xs.append(x.item(0))\n",
    "            ys.append(x.item(1))\n",
    "    \n",
    "    pylab.axis([2, -2, 2, -2])\n",
    "    \n",
    "    plt.scatter(xs, ys)\n",
    "    plt.show()\n",
    "    \n",
    "plot_lA_norm()"
   ]
  },
  {
   "cell_type": "markdown",
   "metadata": {},
   "source": [
    "#### b) ####\n",
    "\n",
    "Going through the properties of a norm we can see that when A has a determinant of zero, there may be vectors other than the zero vector which would allow ||Ax|| = 0 when x != 0. Therefore, only matrices A with non-zero determinants will create valid norms."
   ]
  },
  {
   "cell_type": "markdown",
   "metadata": {},
   "source": [
    "### Problem 6 ###\n",
    "\n",
    "#### a) ####\n",
    "\n",
    "Assume $<x, y>_{Q} = y^{T}Qx$ for matrices Q with a negative or zero on the diagonal represents a valid inner product in $R^{n}$. This means that $<x, x>_{Q} \\geq 0$ for all x != 0. \n",
    "\n",
    "If we let x = $[0, 0, ..., 1, 0, ..., 0]$ such that the 1 is in the ith position where i is the row of Q where the negative value exists then... \n",
    "\n",
    "$x^{t}Qx$ will be equal to \\[$Q_{i,1}, Q_{i,2}, ..., Q_{i,i}, ..., Q_{i, n}$\\]$x$.\n",
    "\n",
    "= $Q_{i,i}$\n",
    "\n",
    "We know that $<x, x>_{Q} \\geq 0$ for all x != 0 and we also know that $Q_{i,i}$ is the negative value or zero on the diagonal. If it is zero we have <x,x> = 0 for x != 0, otherwise we have $<x, x> < 0$. Therefore we have a contradiction and our assumption that $<x, y>_{Q} = y^{T}Qx$ is a valid inner product for matrices Q with negative values on the diagonal is not true."
   ]
  },
  {
   "cell_type": "markdown",
   "metadata": {},
   "source": [
    "#### b) ####\n",
    "\n",
    "Assume $<x, y>_{Q} = y^{T}Qx$ for non symmetric matrices Q represents a valid inner product in $R^{n}$. This means that $<x, y>_{Q}$ must be equal to $<y, x>_{Q}$. \n",
    "\n",
    "$<x, y>_{Q}$ = $\\sum_{i=1}^{n}x_{i}\\sum_{j=1}^{n}y_{j}Q_{ij}$\n",
    "\n",
    "$<y, x>_{Q}$ = $\\sum_{i=1}^{n}y_{i}\\sum_{j=1}^{n}x_{j}Q_{ij}$\n",
    "\n",
    "$\\sum_{i=1}^{n}x_{i}\\sum_{j=1}^{n}y_{j}Q_{ij}$ = $\\sum_{i=1}^{n}y_{i}\\sum_{j=1}^{n}x_{j}Q_{ij}$\n",
    "\n",
    "Expanding the sums we can see that for each term which contains the product of $x_{i}y_{j}$ in the first sum will be multiplied by $Q_{i,j}$ while the other side will be multiplied by $Q_{j,i}$. Therefore this equation only holds true for matrices Q such that $Q._{i,j} = Q_{j,i}$. This means that Q must be symmetric giving us a contradiction implying that $<x, y>_{Q} = y^{T}Qx$ is only a valid inner product in $R^{n}$ for symmetric matrices Q. "
   ]
  },
  {
   "cell_type": "markdown",
   "metadata": {},
   "source": [
    "#### c) ####\n",
    "\n",
    "Assume $<x, y>_{Q} = y^{T}Qx$, where Q is not a symmetric positive definite matrix, is a valid inner product in $R^{n}$. This means that Q must not break any of the axioms of a valid inner product.\n",
    "\n",
    "Axiom 1 states that $<x, y> = <y, x>$ and we know that this is only true if Q is symmetric so Q must be symmetric.\n",
    "\n",
    "Axiom 3 states that $<x, x> \\geq 0$ and $<x, x> = 0$ iff $x = 0$. $<x, x>_{Q} = x^{t}Qx$ and we know that the definition of positive definite matrices is that $x^{t}Qx > 0, \\forall x \\in R^{n}, x \\ne 0$ so for axiom 3 to hold Q must be positive definite.\n",
    "\n",
    "Now we must show that $<x, y>_{Q} = y^{T}Qx$ is a valid inner product since we know that if it is valid Q must be symmetric positive definite. Assuming Q is symmetric positive definite we know that axioms 1 and 3 hold, so we must show that axiom 2 also holds.\n",
    "\n",
    "We want to show that $<ax + by, z> \\ne a<x, z> + b<y,z>$ when Q is symmetric positive definite. \n",
    "\n",
    "$<ax + by, z> = z^{T}Q(ax+by)$\n",
    "\n",
    "$a<x, z> + b<y,z> = az^{T}Qx + bz^{T}Qy$\n",
    "\n",
    "Since a and b are scalars the order of their multiplication does not matter.\n",
    "\n",
    "$= z^{T}Qax + z^{T}Qby$\n",
    "\n",
    "Let $Z^{'} = z^{T}Q$, $X^{'} = ax$ and $Y^{'} = by$\n",
    "\n",
    "$= Z^{'}X^{'} + Z^{'}Y^{'}$\n",
    "\n",
    "By the distributive property of matricies we can factor $Z^{'}$.\n",
    "\n",
    "$= Z^{'}(X^{'} + Y^{'})$\n",
    "\n",
    "Substituting back in for $Z^{'}, X^{'}, Y^{'}$ we have...\n",
    "\n",
    "$= z^{T}Q(ax + by)$\n",
    "\n",
    "$<ax + by, z> = a<x, z> + b<y,z>$\n",
    "\n",
    "We have proven that Q must be symmetric positive definite in order for $<x, y>_{Q}$ to be a valid inner product and we have also shown that if Q is symmetric positive definite all three axioms of a valid inner product hold so we can conclude that $<x, y>_{Q}$ is a valid inner product $iff$ Q is symmetric positive definite."
   ]
  },
  {
   "cell_type": "code",
   "execution_count": null,
   "metadata": {},
   "outputs": [],
   "source": []
  }
 ],
 "metadata": {
  "kernelspec": {
   "display_name": "Python 3",
   "language": "python",
   "name": "python3"
  },
  "language_info": {
   "codemirror_mode": {
    "name": "ipython",
    "version": 3
   },
   "file_extension": ".py",
   "mimetype": "text/x-python",
   "name": "python",
   "nbconvert_exporter": "python",
   "pygments_lexer": "ipython3",
   "version": "3.6.8"
  }
 },
 "nbformat": 4,
 "nbformat_minor": 2
}
